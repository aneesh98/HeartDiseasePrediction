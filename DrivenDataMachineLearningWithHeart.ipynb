{
  "nbformat": 4,
  "nbformat_minor": 0,
  "metadata": {
    "colab": {
      "name": "DrivenDataMachineLearningWithHeart.ipynb",
      "version": "0.3.2",
      "provenance": [],
      "include_colab_link": true
    },
    "kernelspec": {
      "name": "python3",
      "display_name": "Python 3"
    },
    "accelerator": "GPU"
  },
  "cells": [
    {
      "cell_type": "markdown",
      "metadata": {
        "id": "view-in-github",
        "colab_type": "text"
      },
      "source": [
        "<a href=\"https://colab.research.google.com/github/aneesh98/HeartDiseasePrediction/blob/master/DrivenDataMachineLearningWithHeart.ipynb\" target=\"_parent\"><img src=\"https://colab.research.google.com/assets/colab-badge.svg\" alt=\"Open In Colab\"/></a>"
      ]
    },
    {
      "cell_type": "code",
      "metadata": {
        "id": "keX90a2WjULz",
        "colab_type": "code",
        "colab": {
          "base_uri": "https://localhost:8080/",
          "height": 212
        },
        "outputId": "6cb271b7-417f-4b5a-cf8b-b0b1c7f2808f"
      },
      "source": [
        "!wget https://s3.amazonaws.com/drivendata/data/54/public/train_values.csv"
      ],
      "execution_count": 1,
      "outputs": [
        {
          "output_type": "stream",
          "text": [
            "--2019-09-06 07:51:36--  https://s3.amazonaws.com/drivendata/data/54/public/train_values.csv\n",
            "Resolving s3.amazonaws.com (s3.amazonaws.com)... 52.216.146.85\n",
            "Connecting to s3.amazonaws.com (s3.amazonaws.com)|52.216.146.85|:443... connected.\n",
            "HTTP request sent, awaiting response... 200 OK\n",
            "Length: 9591 (9.4K) [text/csv]\n",
            "Saving to: ‘train_values.csv’\n",
            "\n",
            "\rtrain_values.csv      0%[                    ]       0  --.-KB/s               \rtrain_values.csv    100%[===================>]   9.37K  --.-KB/s    in 0s      \n",
            "\n",
            "2019-09-06 07:51:36 (139 MB/s) - ‘train_values.csv’ saved [9591/9591]\n",
            "\n"
          ],
          "name": "stdout"
        }
      ]
    },
    {
      "cell_type": "code",
      "metadata": {
        "id": "eHw1MhpGjmRu",
        "colab_type": "code",
        "colab": {}
      },
      "source": [
        "!wget https://s3.amazonaws.com/drivendata/data/54/public/train_labels.csv"
      ],
      "execution_count": 0,
      "outputs": []
    },
    {
      "cell_type": "code",
      "metadata": {
        "id": "rZcXCiyxjsBy",
        "colab_type": "code",
        "colab": {
          "base_uri": "https://localhost:8080/",
          "height": 105
        },
        "outputId": "0681be0e-8abf-4899-85b1-0533c7ed23f8"
      },
      "source": [
        "import pandas as pd\n",
        "df = pd.read_csv('train_values.csv')\n",
        "df_l = pd.read_csv('train_labels.csv')\n",
        "df_l.head()\n",
        "df_labels = pd.DataFrame({'Target':df_l['heart_disease_present']})\n",
        "df_ = pd.concat([df, df_labels] , axis = 1)\n",
        "\n",
        "df_.head(10)\n",
        "df_.loc[df['thal'] == 'normal', 'thal'] = 1\n",
        "df_.loc[df['thal'] == 'fixed_defect', 'thal'] = 2\n",
        "df_.loc[df['thal'] == 'reversible_defect', 'thal'] = 3\n",
        "##Contingency Table\n",
        "data_ct = pd.crosstab(df_['thal'], df_['Target'], margins = False)\n",
        "print(data_ct)"
      ],
      "execution_count": 27,
      "outputs": [
        {
          "output_type": "stream",
          "text": [
            "Target   0   1\n",
            "thal          \n",
            "1       78  20\n",
            "2        4   4\n",
            "3       18  56\n"
          ],
          "name": "stdout"
        }
      ]
    },
    {
      "cell_type": "code",
      "metadata": {
        "id": "kxgPTrVDyd35",
        "colab_type": "code",
        "colab": {}
      },
      "source": [
        "df_\n",
        "X = df_.iloc[:, 1:df.shape[1]]\n",
        "X"
      ],
      "execution_count": 0,
      "outputs": []
    },
    {
      "cell_type": "code",
      "metadata": {
        "id": "lI0EQGXFlCYR",
        "colab_type": "code",
        "colab": {
          "base_uri": "https://localhost:8080/",
          "height": 296
        },
        "outputId": "199cdaa8-6587-41a9-efd7-180eb21ddb30"
      },
      "source": [
        "from sklearn.ensemble import RandomForestClassifier\n",
        "import matplotlib.pyplot as plt\n",
        "import numpy as np\n",
        "y = df_.loc[:, 'Target']\n",
        "forest = RandomForestClassifier(n_estimators = 500, random_state = 1)\n",
        "forest.fit(X.iloc[:,1:], y)\n",
        "importances = forest.feature_importances_\n",
        "indices = np.argsort(importances)[::-1]\n",
        "plt.title(\"Feature Importance\")\n",
        "plt.bar(range(X.shape[1]-1), importances[indices], align = 'center')\n",
        "plt.xticks(range(X.shape[1]), X, rotation = 90)\n",
        "plt.xlim([-1, X.shape[1]])\n",
        "plt.tight_layout()\n",
        "plt.show()"
      ],
      "execution_count": 25,
      "outputs": [
        {
          "output_type": "display_data",
          "data": {
            "image/png": "[encoded data removed]",
            "text/plain": [
              "<Figure size 432x288 with 1 Axes>"
            ]
          },
          "metadata": {
            "tags": []
          }
        }
      ]
    }
  ]
}